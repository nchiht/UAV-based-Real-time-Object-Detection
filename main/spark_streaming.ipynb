{
 "cells": [
  {
   "cell_type": "markdown",
   "metadata": {},
   "source": [
    "# Definition"
   ]
  },
  {
   "cell_type": "markdown",
   "metadata": {},
   "source": [
    "## Import libraries and dependencies"
   ]
  },
  {
   "cell_type": "code",
   "execution_count": 1,
   "metadata": {},
   "outputs": [],
   "source": [
    "import findspark\n",
    "findspark.init()\n",
    "\n",
    "# Standard library imports\n",
    "from time import sleep\n",
    "\n",
    "import sys\n",
    "import os\n",
    "notebook_path = os.getcwd()\n",
    "\n",
    "project_root = os.path.abspath(os.path.join(notebook_path, '..'))\n",
    "sys.path.append(project_root)\n",
    "from _constants import *\n",
    "\n",
    "\n",
    "# Third-party imports\n",
    "import numpy as np\n",
    "import cv2\n",
    "from ultralytics import YOLO\n",
    "\n",
    "# PySpark imports\n",
    "from pyspark.sql import SparkSession\n",
    "from pyspark.context import SparkContext\n",
    "from pyspark.conf import SparkConf\n",
    "from pyspark.sql.functions import col, udf\n",
    "from pyspark.sql.streaming import DataStreamReader\n",
    "from pyspark.sql.types import BinaryType"
   ]
  },
  {
   "cell_type": "code",
   "execution_count": 2,
   "metadata": {},
   "outputs": [
    {
     "data": {
      "text/html": [
       "\n",
       "            <div>\n",
       "                <p><b>SparkSession - in-memory</b></p>\n",
       "                \n",
       "        <div>\n",
       "            <p><b>SparkContext</b></p>\n",
       "\n",
       "            <p><a href=\"http://ANHHOAMUIMO:4040\">Spark UI</a></p>\n",
       "\n",
       "            <dl>\n",
       "              <dt>Version</dt>\n",
       "                <dd><code>v3.5.1</code></dd>\n",
       "              <dt>Master</dt>\n",
       "                <dd><code>local</code></dd>\n",
       "              <dt>AppName</dt>\n",
       "                <dd><code>UAV Detection</code></dd>\n",
       "            </dl>\n",
       "        </div>\n",
       "        \n",
       "            </div>\n",
       "        "
      ],
      "text/plain": [
       "<pyspark.sql.session.SparkSession at 0x1a45b7d72e0>"
      ]
     },
     "execution_count": 2,
     "metadata": {},
     "output_type": "execute_result"
    }
   ],
   "source": [
    "packages = [\n",
    "    f'org.apache.spark:spark-sql-kafka-0-10_{scala_version}:{spark_version}',\n",
    "    f'org.apache.kafka:kafka-clients:{kafka_version}'\n",
    "]\n",
    "spark = SparkSession \\\n",
    ".builder \\\n",
    ".appName(app_name) \\\n",
    ".master(\"local\") \\\n",
    ".config(\"spark.executor.memory\", \"16g\") \\\n",
    ".config(\"spark.driver.memory\", \"16g\") \\\n",
    ".config(\"spark.python.worker.reuse\", \"true\") \\\n",
    ".config(\"spark.sql.execution.arrow.pyspark.enabled\", \"true\") \\\n",
    ".config(\"spark.sql.execution.arrow.maxRecordsPerBatch\", \"5\") \\\n",
    ".config(\"spark.scheduler.mode\", \"FAIR\")  \\\n",
    ".config(\"spark.jars.packages\", \",\".join(packages)) \\\n",
    ".getOrCreate()\n",
    "\n",
    "spark.sparkContext.setLogLevel(\"ERROR\")\n",
    "\n",
    "conf=SparkConf()\n",
    "\n",
    "spark\n"
   ]
  },
  {
   "cell_type": "markdown",
   "metadata": {},
   "source": [
    "## Load a model"
   ]
  },
  {
   "cell_type": "code",
   "execution_count": 3,
   "metadata": {},
   "outputs": [
    {
     "name": "stdout",
     "output_type": "stream",
     "text": [
      "PRO TIP 💡 Replace 'model=../params/pt_yolov5n.pt' with new 'model=../params/pt_yolov5nu.pt'.\n",
      "YOLOv5 'u' models are trained with https://github.com/ultralytics/ultralytics and feature improved performance vs standard YOLOv5 models trained with https://github.com/ultralytics/yolov5.\n",
      "\n"
     ]
    }
   ],
   "source": [
    "yolo = YOLO(yolov5n)\n",
    "# yolo = YOLO(\"../params/pt_yolov8s.pt\") \n",
    "# yolo = YOLO(\"../params/pt_yolov8n.pt\")  "
   ]
  },
  {
   "cell_type": "markdown",
   "metadata": {},
   "source": [
    "## Broadcast model"
   ]
  },
  {
   "cell_type": "code",
   "execution_count": 4,
   "metadata": {},
   "outputs": [],
   "source": [
    "# Broadcast model\n",
    "sc = SparkContext.getOrCreate()\n",
    "broadcast_model = sc.broadcast(yolo)"
   ]
  },
  {
   "cell_type": "markdown",
   "metadata": {},
   "source": [
    "# Spark Structured Streaming Process"
   ]
  },
  {
   "cell_type": "markdown",
   "metadata": {},
   "source": [
    "## Define Spark's User-Defined Function (UDF) and get broadcasted model"
   ]
  },
  {
   "cell_type": "code",
   "execution_count": 5,
   "metadata": {},
   "outputs": [],
   "source": [
    "model = broadcast_model.value\n",
    "\n",
    "def load_and_preprocess_frames(frame_bytes):\n",
    "    frame = np.frombuffer(frame_bytes, dtype=np.uint8)\n",
    "    frame = cv2.imdecode(frame, cv2.IMREAD_COLOR)\n",
    "    return frame\n",
    "\n",
    "def predict(frame_bytes):\n",
    "    image = load_and_preprocess_frames(frame_bytes)\n",
    "    prediction = model.predict(image)\n",
    "    ret, buffer = cv2.imencode('.jpg', prediction[0].plot())\n",
    "    print(buffer)\n",
    "    return buffer.tobytes()\n",
    "\n",
    "predict_udf = udf(predict, BinaryType())"
   ]
  },
  {
   "cell_type": "markdown",
   "metadata": {},
   "source": [
    "## Spark Structured Streaming"
   ]
  },
  {
   "cell_type": "code",
   "execution_count": 6,
   "metadata": {},
   "outputs": [],
   "source": [
    "def queryWriter(topic_in, topic_out, checkpointPath):\n",
    "    streamRawDF = spark.readStream.format(\"kafka\").option(\"kafka.bootstrap.servers\", kafka_server).option(\"subscribe\", topic_in).option(\"startingOffsets\",\"latest\").load()\n",
    "\n",
    "    streamRawDF = streamRawDF.withColumn('value1', col('value'))\n",
    "    streamRawDF = streamRawDF.drop('value')\n",
    "    streamRawDF = streamRawDF.withColumn('value', predict_udf('value1'))\n",
    "\n",
    "    query = streamRawDF.writeStream \\\n",
    "    .format(\"kafka\") \\\n",
    "    .option(\"kafka.bootstrap.servers\", kafka_server) \\\n",
    "    .option('topic', topic_out) \\\n",
    "    .option(\"checkpointLocation\", f'../checkpoint/' + checkpointPath) \\\n",
    "    # .trigger(processingTime=\"3 seconds\")\n",
    "\n",
    "    return query\n"
   ]
  },
  {
   "cell_type": "markdown",
   "metadata": {},
   "source": [
    "## Start Streaming Query"
   ]
  },
  {
   "cell_type": "code",
   "execution_count": 11,
   "metadata": {},
   "outputs": [],
   "source": [
    "checkpoint_1 = 'uav1'\n",
    "checkpoint_2 = 'uav2'\n",
    "checkpoint_3 = 'uav3'\n",
    "\n",
    "query_1 = queryWriter(topic_in_1, topic_out_1, checkpoint_1)\n",
    "query_2 = queryWriter(topic_in_2, topic_out_2, checkpoint_2)\n",
    "query_3 = queryWriter(topic_in_3, topic_out_3, checkpoint_3)"
   ]
  },
  {
   "cell_type": "code",
   "execution_count": 12,
   "metadata": {},
   "outputs": [
    {
     "data": {
      "text/plain": [
       "<pyspark.sql.streaming.query.StreamingQuery at 0x1a45b97b700>"
      ]
     },
     "execution_count": 12,
     "metadata": {},
     "output_type": "execute_result"
    }
   ],
   "source": [
    "query_1.start() \n",
    "query_2.start()\n",
    "query_3.start()"
   ]
  },
  {
   "cell_type": "code",
   "execution_count": 9,
   "metadata": {},
   "outputs": [],
   "source": [
    "# query_1.stop()\n",
    "# query_2.stop()\n",
    "# query_3.stop()"
   ]
  }
 ],
 "metadata": {
  "kernelspec": {
   "display_name": ".venv",
   "language": "python",
   "name": "python3"
  },
  "language_info": {
   "codemirror_mode": {
    "name": "ipython",
    "version": 3
   },
   "file_extension": ".py",
   "mimetype": "text/x-python",
   "name": "python",
   "nbconvert_exporter": "python",
   "pygments_lexer": "ipython3",
   "version": "3.10.8"
  }
 },
 "nbformat": 4,
 "nbformat_minor": 2
}
