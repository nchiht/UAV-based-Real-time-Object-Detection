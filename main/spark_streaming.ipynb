{
 "cells": [
  {
   "cell_type": "markdown",
   "metadata": {},
   "source": [
    "# Definition"
   ]
  },
  {
   "cell_type": "markdown",
   "metadata": {},
   "source": [
    "## Import libraries and dependencies"
   ]
  },
  {
   "cell_type": "code",
   "execution_count": 19,
   "metadata": {},
   "outputs": [],
   "source": [
    "!export PYTHONPATH='./'"
   ]
  },
  {
   "cell_type": "code",
   "execution_count": 23,
   "metadata": {},
   "outputs": [
    {
     "ename": "ImportError",
     "evalue": "attempted relative import with no known parent package",
     "output_type": "error",
     "traceback": [
      "\u001b[0;31m---------------------------------------------------------------------------\u001b[0m",
      "\u001b[0;31mImportError\u001b[0m                               Traceback (most recent call last)",
      "Cell \u001b[0;32mIn[23], line 6\u001b[0m\n\u001b[1;32m      4\u001b[0m \u001b[38;5;66;03m# Standard library imports\u001b[39;00m\n\u001b[1;32m      5\u001b[0m \u001b[38;5;28;01mfrom\u001b[39;00m \u001b[38;5;21;01mtime\u001b[39;00m \u001b[38;5;28;01mimport\u001b[39;00m sleep\n\u001b[0;32m----> 6\u001b[0m \u001b[38;5;28;01mfrom\u001b[39;00m \u001b[38;5;21;01m.\u001b[39;00m\u001b[38;5;21;01m.\u001b[39;00m\u001b[38;5;21;01m_constants\u001b[39;00m \u001b[38;5;28;01mimport\u001b[39;00m \u001b[38;5;241m*\u001b[39m\n\u001b[1;32m      8\u001b[0m \u001b[38;5;66;03m# Third-party imports\u001b[39;00m\n\u001b[1;32m      9\u001b[0m \u001b[38;5;28;01mimport\u001b[39;00m \u001b[38;5;21;01mnumpy\u001b[39;00m \u001b[38;5;28;01mas\u001b[39;00m \u001b[38;5;21;01mnp\u001b[39;00m\n",
      "\u001b[0;31mImportError\u001b[0m: attempted relative import with no known parent package"
     ]
    }
   ],
   "source": [
    "import findspark\n",
    "findspark.init()\n",
    "\n",
    "# Standard library imports\n",
    "from time import sleep\n",
    "from .._constants import *\n",
    "\n",
    "# Third-party imports\n",
    "import numpy as np\n",
    "import cv2\n",
    "from ultralytics import YOLO\n",
    "\n",
    "# PySpark imports\n",
    "from pyspark.sql import SparkSession\n",
    "from pyspark.context import SparkContext\n",
    "from pyspark.conf import SparkConf\n",
    "from pyspark.sql.functions import col, udf\n",
    "from pyspark.sql.streaming import DataStreamReader\n",
    "from pyspark.sql.types import BinaryType"
   ]
  },
  {
   "cell_type": "code",
   "execution_count": null,
   "metadata": {},
   "outputs": [],
   "source": [
    "packages = [\n",
    "    f'org.apache.spark:spark-sql-kafka-0-10_{scala_version}:{spark_version}',\n",
    "    'org.apache.kafka:kafka-clients:3.7.0'\n",
    "]\n",
    "spark = SparkSession \\\n",
    ".builder \\\n",
    ".appName(\"UAV Detection\") \\\n",
    ".master(\"local\") \\\n",
    ".config(\"spark.executor.memory\", \"16g\") \\\n",
    ".config(\"spark.driver.memory\", \"16g\") \\\n",
    ".config(\"spark.python.worker.reuse\", \"true\") \\\n",
    ".config(\"spark.sql.execution.arrow.pyspark.enabled\", \"true\") \\\n",
    ".config(\"spark.sql.execution.arrow.maxRecordsPerBatch\", \"5\") \\\n",
    ".config(\"spark.scheduler.mode\", \"FAIR\")  \\\n",
    ".config(\"spark.jars.packages\", \",\".join(packages)) \\\n",
    ".getOrCreate()\n",
    "\n",
    "spark.sparkContext.setLogLevel(\"ERROR\")\n",
    "\n",
    "conf=SparkConf()\n",
    "\n",
    "spark\n"
   ]
  },
  {
   "cell_type": "markdown",
   "metadata": {},
   "source": [
    "## Load a model"
   ]
  },
  {
   "cell_type": "code",
   "execution_count": null,
   "metadata": {},
   "outputs": [],
   "source": [
    "yolo = YOLO(\"../params/pt_yolov5n.pt\")\n",
    "# yolo = YOLO(\"../params/pt_yolov8s.pt\") \n",
    "# yolo = YOLO(\"../params/pt_yolov8n.pt\")  "
   ]
  },
  {
   "cell_type": "markdown",
   "metadata": {},
   "source": [
    "## Broadcast model"
   ]
  },
  {
   "cell_type": "code",
   "execution_count": null,
   "metadata": {},
   "outputs": [],
   "source": [
    "# Broadcast model\n",
    "sc = SparkContext.getOrCreate()\n",
    "broadcast_model = sc.broadcast(yolo)"
   ]
  },
  {
   "cell_type": "markdown",
   "metadata": {},
   "source": [
    "# Spark Structured Streaming Process"
   ]
  },
  {
   "cell_type": "markdown",
   "metadata": {},
   "source": [
    "## Define Spark's User-Defined Function (UDF) and get broadcasted model"
   ]
  },
  {
   "cell_type": "code",
   "execution_count": null,
   "metadata": {},
   "outputs": [],
   "source": [
    "model = broadcast_model.value\n",
    "\n",
    "def load_and_preprocess_frames(frame_bytes):\n",
    "    frame = np.frombuffer(frame_bytes, dtype=np.uint8)\n",
    "    frame = cv2.imdecode(frame, cv2.IMREAD_COLOR)\n",
    "    return frame\n",
    "\n",
    "def predict(frame_bytes):\n",
    "    image = load_and_preprocess_frames(frame_bytes)\n",
    "    prediction = model.predict(image)\n",
    "    ret, buffer = cv2.imencode('.jpg', prediction[0].plot())\n",
    "    print(buffer)\n",
    "    return buffer.tobytes()\n",
    "\n",
    "predict_udf = udf(predict, BinaryType())"
   ]
  },
  {
   "cell_type": "markdown",
   "metadata": {},
   "source": [
    "## Spark Structured Streaming"
   ]
  },
  {
   "cell_type": "code",
   "execution_count": null,
   "metadata": {},
   "outputs": [],
   "source": [
    "def queryWriter(topic_in, topic_out, checkpointPath):\n",
    "    streamRawDF = spark.readStream.format(\"kafka\").option(\"kafka.bootstrap.servers\", kafka_server).option(\"subscribe\", topic_in).option(\"startingOffsets\",\"latest\").load()\n",
    "\n",
    "    streamRawDF = streamRawDF.withColumn('value1', col('value'))\n",
    "    streamRawDF = streamRawDF.drop('value')\n",
    "    streamRawDF = streamRawDF.withColumn('value', predict_udf('value1'))\n",
    "\n",
    "    query = streamRawDF.writeStream \\\n",
    "    .format(\"kafka\") \\\n",
    "    .option(\"kafka.bootstrap.servers\", kafka_server) \\\n",
    "    .option('topic', topic_out) \\\n",
    "    .option(\"checkpointLocation\", f'../checkpoint/' + checkpointPath) \\\n",
    "    # .trigger(processingTime=\"3 seconds\")\n",
    "\n",
    "    return query\n"
   ]
  },
  {
   "cell_type": "markdown",
   "metadata": {},
   "source": [
    "## Start Streaming Query"
   ]
  },
  {
   "cell_type": "code",
   "execution_count": null,
   "metadata": {},
   "outputs": [],
   "source": [
    "checkpoint_1 = 'uav1'\n",
    "checkpoint_2 = 'uav2'\n",
    "checkpoint_3 = 'uav3'\n",
    "\n",
    "query_1 = queryWriter(topic_in_1, topic_out_1, checkpoint_1)\n",
    "query_2 = queryWriter(topic_in_2, topic_out_2, checkpoint_2)\n",
    "query_3 = queryWriter(topic_in_3, topic_out_3, checkpoint_3)"
   ]
  },
  {
   "cell_type": "code",
   "execution_count": null,
   "metadata": {},
   "outputs": [],
   "source": [
    "query_1.start() \n",
    "query_2.start()\n",
    "query_3.start()"
   ]
  },
  {
   "cell_type": "code",
   "execution_count": null,
   "metadata": {},
   "outputs": [],
   "source": [
    "# query_1.stop()\n",
    "# query_2.stop()\n",
    "# query_3.stop()"
   ]
  }
 ],
 "metadata": {
  "kernelspec": {
   "display_name": ".venv",
   "language": "python",
   "name": "python3"
  },
  "language_info": {
   "codemirror_mode": {
    "name": "ipython",
    "version": 3
   },
   "file_extension": ".py",
   "mimetype": "text/x-python",
   "name": "python",
   "nbconvert_exporter": "python",
   "pygments_lexer": "ipython3",
   "version": "3.10.12"
  }
 },
 "nbformat": 4,
 "nbformat_minor": 2
}
